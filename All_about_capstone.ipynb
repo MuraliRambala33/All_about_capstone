{
 "cells": [
  {
   "cell_type": "markdown",
   "metadata": {},
   "source": [
    "Problem Statement :: Predicting the income level using the input data of each person details "
   ]
  },
  {
   "cell_type": "markdown",
   "metadata": {},
   "source": [
    "1.DataSet:: US income census Dataset has classes high income and low income (>=50000 ,<50000) highly class imbalanced dataset  \n",
    " 93% low income level and 6% high income level\n",
    " ==>Dataset contains 40 independent columns and 1 dependent column\n",
    "  \n"
   ]
  },
  {
   "cell_type": "markdown",
   "metadata": {},
   "source": [
    "2 Data Wrangling:: Out of 40 independent columns 9 columns are having missing values all of them are catagorical type and these \n",
    " missing values are imputed with mode values of the features"
   ]
  },
  {
   "cell_type": "markdown",
   "metadata": {},
   "source": [
    "3.EDA :: Extrapolatory data anlysis has done all the individual features with the target feature and observed the independent \n",
    "features related to target variable"
   ]
  },
  {
   "cell_type": "markdown",
   "metadata": {},
   "source": [
    "4.There are more catagorical values in each catagorical column by ploting graphs between these catagorical column to two classes \n",
    "in target variable\n",
    "And feature engineering has done for remaining catagorical columns using hot encoding techniques."
   ]
  },
  {
   "cell_type": "markdown",
   "metadata": {},
   "source": [
    "5.Using the random forest feature some important features has selected with top 11 important features are only selected and are \n",
    "usefull with respect to target class variable."
   ]
  },
  {
   "cell_type": "markdown",
   "metadata": {},
   "source": [
    "6.Its a class imbalance problem so used under sampling and over sapling techniques algorithm has used and woking good with 89 and 94% accuracy"
   ]
  },
  {
   "cell_type": "code",
   "execution_count": null,
   "metadata": {},
   "outputs": [],
   "source": []
  }
 ],
 "metadata": {
  "kernelspec": {
   "display_name": "Python 3",
   "language": "python",
   "name": "python3"
  },
  "language_info": {
   "codemirror_mode": {
    "name": "ipython",
    "version": 3
   },
   "file_extension": ".py",
   "mimetype": "text/x-python",
   "name": "python",
   "nbconvert_exporter": "python",
   "pygments_lexer": "ipython3",
   "version": "3.8.3"
  }
 },
 "nbformat": 4,
 "nbformat_minor": 4
}
